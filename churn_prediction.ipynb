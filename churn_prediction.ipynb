{
  "nbformat": 4,
  "nbformat_minor": 0,
  "metadata": {
    "colab": {
      "provenance": []
    },
    "kernelspec": {
      "name": "python3",
      "display_name": "Python 3"
    },
    "language_info": {
      "name": "python"
    }
  },
  "cells": [
    {
      "cell_type": "markdown",
      "source": [
        "1) Importation des données\n"
      ],
      "metadata": {
        "id": "pa1eDGINGHv4"
      }
    },
    {
      "cell_type": "code",
      "source": [
        "import pandas as pd\n",
        "\n",
        "# on fait l'importation de notre base de données\n",
        "df = pd.read_csv('/content/sample_data/Bank Customer Churn Prediction.csv')\n",
        "\n",
        "# on affiche les 10 premières lignes de notre base pour vérifier que la base a été bien importée.\n",
        "print(df.head(10))\n"
      ],
      "metadata": {
        "colab": {
          "base_uri": "https://localhost:8080/"
        },
        "id": "MWDzDG2Ku3j7",
        "outputId": "8ad4066e-d3ec-492b-d4e3-3e7c8896e25b"
      },
      "execution_count": null,
      "outputs": [
        {
          "output_type": "stream",
          "name": "stdout",
          "text": [
            "   customer_id  credit_score  country  gender  age  tenure    balance  \\\n",
            "0     15634602           619   France  Female   42       2       0.00   \n",
            "1     15647311           608    Spain  Female   41       1   83807.86   \n",
            "2     15619304           502   France  Female   42       8  159660.80   \n",
            "3     15701354           699   France  Female   39       1       0.00   \n",
            "4     15737888           850    Spain  Female   43       2  125510.82   \n",
            "5     15574012           645    Spain    Male   44       8  113755.78   \n",
            "6     15592531           822   France    Male   50       7       0.00   \n",
            "7     15656148           376  Germany  Female   29       4  115046.74   \n",
            "8     15792365           501   France    Male   44       4  142051.07   \n",
            "9     15592389           684   France    Male   27       2  134603.88   \n",
            "\n",
            "   products_number  credit_card  active_member  estimated_salary  churn  \n",
            "0                1            1              1         101348.88      1  \n",
            "1                1            0              1         112542.58      0  \n",
            "2                3            1              0         113931.57      1  \n",
            "3                2            0              0          93826.63      0  \n",
            "4                1            1              1          79084.10      0  \n",
            "5                2            1              0         149756.71      1  \n",
            "6                2            1              1          10062.80      0  \n",
            "7                4            1              0         119346.88      1  \n",
            "8                2            0              1          74940.50      0  \n",
            "9                1            1              1          71725.73      0  \n"
          ]
        }
      ]
    },
    {
      "cell_type": "markdown",
      "source": [
        "2) Traitement des données"
      ],
      "metadata": {
        "id": "irtVsnKEGTOM"
      }
    },
    {
      "cell_type": "code",
      "source": [
        "df.info()\n",
        "\n",
        "# on a verifié que : \n",
        "# 1) les types des variables de notre base de données sont correctes\n",
        "# 2) que toutes les colonnes de notre base de données sont remplies et il ya aucune colonne vide ( Non-null = 10000)\n"
      ],
      "metadata": {
        "colab": {
          "base_uri": "https://localhost:8080/"
        },
        "id": "GTZqlC4FwbqL",
        "outputId": "ef5584d7-5518-4fde-ab63-599749a935fa"
      },
      "execution_count": null,
      "outputs": [
        {
          "output_type": "stream",
          "name": "stdout",
          "text": [
            "<class 'pandas.core.frame.DataFrame'>\n",
            "RangeIndex: 10000 entries, 0 to 9999\n",
            "Data columns (total 12 columns):\n",
            " #   Column            Non-Null Count  Dtype  \n",
            "---  ------            --------------  -----  \n",
            " 0   customer_id       10000 non-null  int64  \n",
            " 1   credit_score      10000 non-null  int64  \n",
            " 2   country           10000 non-null  object \n",
            " 3   gender            10000 non-null  object \n",
            " 4   age               10000 non-null  int64  \n",
            " 5   tenure            10000 non-null  int64  \n",
            " 6   balance           10000 non-null  float64\n",
            " 7   products_number   10000 non-null  int64  \n",
            " 8   credit_card       10000 non-null  int64  \n",
            " 9   active_member     10000 non-null  int64  \n",
            " 10  estimated_salary  10000 non-null  float64\n",
            " 11  churn             10000 non-null  int64  \n",
            "dtypes: float64(2), int64(8), object(2)\n",
            "memory usage: 937.6+ KB\n"
          ]
        }
      ]
    },
    {
      "cell_type": "code",
      "source": [
        "from sklearn.discriminant_analysis import LinearDiscriminantAnalysis\n",
        "from sklearn.model_selection import train_test_split\n",
        "from sklearn.metrics import confusion_matrix, classification_report"
      ],
      "metadata": {
        "id": "8kRcwQC4xEUE"
      },
      "execution_count": null,
      "outputs": []
    },
    {
      "cell_type": "code",
      "source": [
        "df = df.drop(\"customer_id\", axis=1)\n",
        "# on supprime la colonne customer_id qui me semble inutile."
      ],
      "metadata": {
        "id": "OyzeW4ZLzYdJ"
      },
      "execution_count": null,
      "outputs": []
    },
    {
      "cell_type": "code",
      "source": [
        "print(df.head(10))"
      ],
      "metadata": {
        "colab": {
          "base_uri": "https://localhost:8080/"
        },
        "id": "KfiwfakbzYf9",
        "outputId": "83ea880e-292a-4b70-d76e-21d3afebbb32"
      },
      "execution_count": null,
      "outputs": [
        {
          "output_type": "stream",
          "name": "stdout",
          "text": [
            "   credit_score  country  gender  age  tenure    balance  products_number  \\\n",
            "0           619   France  Female   42       2       0.00                1   \n",
            "1           608    Spain  Female   41       1   83807.86                1   \n",
            "2           502   France  Female   42       8  159660.80                3   \n",
            "3           699   France  Female   39       1       0.00                2   \n",
            "4           850    Spain  Female   43       2  125510.82                1   \n",
            "5           645    Spain    Male   44       8  113755.78                2   \n",
            "6           822   France    Male   50       7       0.00                2   \n",
            "7           376  Germany  Female   29       4  115046.74                4   \n",
            "8           501   France    Male   44       4  142051.07                2   \n",
            "9           684   France    Male   27       2  134603.88                1   \n",
            "\n",
            "   credit_card  active_member  estimated_salary  churn  \n",
            "0            1              1         101348.88      1  \n",
            "1            0              1         112542.58      0  \n",
            "2            1              0         113931.57      1  \n",
            "3            0              0          93826.63      0  \n",
            "4            1              1          79084.10      0  \n",
            "5            1              0         149756.71      1  \n",
            "6            1              1          10062.80      0  \n",
            "7            1              0         119346.88      1  \n",
            "8            0              1          74940.50      0  \n",
            "9            1              1          71725.73      0  \n"
          ]
        }
      ]
    },
    {
      "cell_type": "code",
      "source": [
        "df = df.drop(['gender', 'country'], axis=1)"
      ],
      "metadata": {
        "id": "LAQ8tT7BEova"
      },
      "execution_count": null,
      "outputs": []
    },
    {
      "cell_type": "code",
      "source": [
        "print(df.head(10))"
      ],
      "metadata": {
        "colab": {
          "base_uri": "https://localhost:8080/"
        },
        "id": "hHi9PeWeEqgY",
        "outputId": "ce5bd502-051b-4fd4-b896-2a43d7997aa4"
      },
      "execution_count": null,
      "outputs": [
        {
          "output_type": "stream",
          "name": "stdout",
          "text": [
            "   credit_score  age  tenure    balance  products_number  credit_card  \\\n",
            "0           619   42       2       0.00                1            1   \n",
            "1           608   41       1   83807.86                1            0   \n",
            "2           502   42       8  159660.80                3            1   \n",
            "3           699   39       1       0.00                2            0   \n",
            "4           850   43       2  125510.82                1            1   \n",
            "5           645   44       8  113755.78                2            1   \n",
            "6           822   50       7       0.00                2            1   \n",
            "7           376   29       4  115046.74                4            1   \n",
            "8           501   44       4  142051.07                2            0   \n",
            "9           684   27       2  134603.88                1            1   \n",
            "\n",
            "   active_member  estimated_salary  churn  \n",
            "0              1         101348.88      1  \n",
            "1              1         112542.58      0  \n",
            "2              0         113931.57      1  \n",
            "3              0          93826.63      0  \n",
            "4              1          79084.10      0  \n",
            "5              0         149756.71      1  \n",
            "6              1          10062.80      0  \n",
            "7              0         119346.88      1  \n",
            "8              1          74940.50      0  \n",
            "9              1          71725.73      0  \n"
          ]
        }
      ]
    },
    {
      "cell_type": "markdown",
      "source": [
        "3) Analyse déscriminante\n"
      ],
      "metadata": {
        "id": "imso4FnXGYEz"
      }
    },
    {
      "cell_type": "code",
      "source": [
        "# on fait la divison de nos variables explicatives et variable cible\n",
        "X = df.drop(\"churn\", axis=1)\n",
        "y = df[\"churn\"]\n",
        "#X represente les variables explicatives (toutes les variables sauf customer_id qui a été supprimée)\n",
        "#Y represente notre variable cible (churn)\n",
        "\n",
        "# on vérifie si la division est faite\n",
        "print(\"X shape:\", X.shape)\n",
        "print(\"y shape:\", y.shape)\n"
      ],
      "metadata": {
        "colab": {
          "base_uri": "https://localhost:8080/"
        },
        "id": "FADcTk1szYmO",
        "outputId": "59ebdb42-775a-4fef-abfb-554bb07d7beb"
      },
      "execution_count": null,
      "outputs": [
        {
          "output_type": "stream",
          "name": "stdout",
          "text": [
            "X shape: (10000, 8)\n",
            "y shape: (10000,)\n"
          ]
        }
      ]
    },
    {
      "cell_type": "code",
      "source": [
        "#on fait la divison pour avoir un ensemble de données d'entrainement et un ensemble de données pour test\n",
        "X_train, X_test, y_train, y_test = train_test_split(X, y, test_size=0.2, random_state=42)\n",
        "\n",
        "#test_size c'est l'ensemble de données qui va être testé ( 20% )\n"
      ],
      "metadata": {
        "id": "RWHXSA679sAy"
      },
      "execution_count": null,
      "outputs": []
    },
    {
      "cell_type": "code",
      "source": [
        "#créer un modèle de classification linéaire basé sur l'analyse discriminante linéaire.\n",
        "lda = LinearDiscriminantAnalysis()"
      ],
      "metadata": {
        "id": "v74-faHl9sMl"
      },
      "execution_count": null,
      "outputs": []
    },
    {
      "cell_type": "code",
      "source": [
        "# appliquer le model sur la data de l'entrainement\n",
        "lda.fit(X_train, y_train)"
      ],
      "metadata": {
        "colab": {
          "base_uri": "https://localhost:8080/",
          "height": 75
        },
        "id": "ss3e1l9A-tm9",
        "outputId": "23543e24-939d-4e0b-e958-f9b3740ccf85"
      },
      "execution_count": null,
      "outputs": [
        {
          "output_type": "execute_result",
          "data": {
            "text/plain": [
              "LinearDiscriminantAnalysis()"
            ],
            "text/html": [
              "<style>#sk-container-id-2 {color: black;background-color: white;}#sk-container-id-2 pre{padding: 0;}#sk-container-id-2 div.sk-toggleable {background-color: white;}#sk-container-id-2 label.sk-toggleable__label {cursor: pointer;display: block;width: 100%;margin-bottom: 0;padding: 0.3em;box-sizing: border-box;text-align: center;}#sk-container-id-2 label.sk-toggleable__label-arrow:before {content: \"▸\";float: left;margin-right: 0.25em;color: #696969;}#sk-container-id-2 label.sk-toggleable__label-arrow:hover:before {color: black;}#sk-container-id-2 div.sk-estimator:hover label.sk-toggleable__label-arrow:before {color: black;}#sk-container-id-2 div.sk-toggleable__content {max-height: 0;max-width: 0;overflow: hidden;text-align: left;background-color: #f0f8ff;}#sk-container-id-2 div.sk-toggleable__content pre {margin: 0.2em;color: black;border-radius: 0.25em;background-color: #f0f8ff;}#sk-container-id-2 input.sk-toggleable__control:checked~div.sk-toggleable__content {max-height: 200px;max-width: 100%;overflow: auto;}#sk-container-id-2 input.sk-toggleable__control:checked~label.sk-toggleable__label-arrow:before {content: \"▾\";}#sk-container-id-2 div.sk-estimator input.sk-toggleable__control:checked~label.sk-toggleable__label {background-color: #d4ebff;}#sk-container-id-2 div.sk-label input.sk-toggleable__control:checked~label.sk-toggleable__label {background-color: #d4ebff;}#sk-container-id-2 input.sk-hidden--visually {border: 0;clip: rect(1px 1px 1px 1px);clip: rect(1px, 1px, 1px, 1px);height: 1px;margin: -1px;overflow: hidden;padding: 0;position: absolute;width: 1px;}#sk-container-id-2 div.sk-estimator {font-family: monospace;background-color: #f0f8ff;border: 1px dotted black;border-radius: 0.25em;box-sizing: border-box;margin-bottom: 0.5em;}#sk-container-id-2 div.sk-estimator:hover {background-color: #d4ebff;}#sk-container-id-2 div.sk-parallel-item::after {content: \"\";width: 100%;border-bottom: 1px solid gray;flex-grow: 1;}#sk-container-id-2 div.sk-label:hover label.sk-toggleable__label {background-color: #d4ebff;}#sk-container-id-2 div.sk-serial::before {content: \"\";position: absolute;border-left: 1px solid gray;box-sizing: border-box;top: 0;bottom: 0;left: 50%;z-index: 0;}#sk-container-id-2 div.sk-serial {display: flex;flex-direction: column;align-items: center;background-color: white;padding-right: 0.2em;padding-left: 0.2em;position: relative;}#sk-container-id-2 div.sk-item {position: relative;z-index: 1;}#sk-container-id-2 div.sk-parallel {display: flex;align-items: stretch;justify-content: center;background-color: white;position: relative;}#sk-container-id-2 div.sk-item::before, #sk-container-id-2 div.sk-parallel-item::before {content: \"\";position: absolute;border-left: 1px solid gray;box-sizing: border-box;top: 0;bottom: 0;left: 50%;z-index: -1;}#sk-container-id-2 div.sk-parallel-item {display: flex;flex-direction: column;z-index: 1;position: relative;background-color: white;}#sk-container-id-2 div.sk-parallel-item:first-child::after {align-self: flex-end;width: 50%;}#sk-container-id-2 div.sk-parallel-item:last-child::after {align-self: flex-start;width: 50%;}#sk-container-id-2 div.sk-parallel-item:only-child::after {width: 0;}#sk-container-id-2 div.sk-dashed-wrapped {border: 1px dashed gray;margin: 0 0.4em 0.5em 0.4em;box-sizing: border-box;padding-bottom: 0.4em;background-color: white;}#sk-container-id-2 div.sk-label label {font-family: monospace;font-weight: bold;display: inline-block;line-height: 1.2em;}#sk-container-id-2 div.sk-label-container {text-align: center;}#sk-container-id-2 div.sk-container {/* jupyter's `normalize.less` sets `[hidden] { display: none; }` but bootstrap.min.css set `[hidden] { display: none !important; }` so we also need the `!important` here to be able to override the default hidden behavior on the sphinx rendered scikit-learn.org. See: https://github.com/scikit-learn/scikit-learn/issues/21755 */display: inline-block !important;position: relative;}#sk-container-id-2 div.sk-text-repr-fallback {display: none;}</style><div id=\"sk-container-id-2\" class=\"sk-top-container\"><div class=\"sk-text-repr-fallback\"><pre>LinearDiscriminantAnalysis()</pre><b>In a Jupyter environment, please rerun this cell to show the HTML representation or trust the notebook. <br />On GitHub, the HTML representation is unable to render, please try loading this page with nbviewer.org.</b></div><div class=\"sk-container\" hidden><div class=\"sk-item\"><div class=\"sk-estimator sk-toggleable\"><input class=\"sk-toggleable__control sk-hidden--visually\" id=\"sk-estimator-id-2\" type=\"checkbox\" checked><label for=\"sk-estimator-id-2\" class=\"sk-toggleable__label sk-toggleable__label-arrow\">LinearDiscriminantAnalysis</label><div class=\"sk-toggleable__content\"><pre>LinearDiscriminantAnalysis()</pre></div></div></div></div></div>"
            ]
          },
          "metadata": {},
          "execution_count": 51
        }
      ]
    },
    {
      "cell_type": "code",
      "source": [
        "# faire les prediction sur la data du test\n",
        "y_pred = lda.predict(X_test)"
      ],
      "metadata": {
        "id": "12Zs3DVK-w6s"
      },
      "execution_count": null,
      "outputs": []
    },
    {
      "cell_type": "code",
      "source": [
        "# evaluer la performance du modèle\n",
        "print(classification_report(y_test, y_pred))"
      ],
      "metadata": {
        "colab": {
          "base_uri": "https://localhost:8080/"
        },
        "id": "GAlQkfGd-4vD",
        "outputId": "25aa7457-0adb-4b29-e51b-ec1b588bb774"
      },
      "execution_count": null,
      "outputs": [
        {
          "output_type": "stream",
          "name": "stdout",
          "text": [
            "              precision    recall  f1-score   support\n",
            "\n",
            "           0       0.83      0.96      0.89      1607\n",
            "           1       0.53      0.17      0.25       393\n",
            "\n",
            "    accuracy                           0.81      2000\n",
            "   macro avg       0.68      0.57      0.57      2000\n",
            "weighted avg       0.77      0.81      0.76      2000\n",
            "\n"
          ]
        }
      ]
    },
    {
      "cell_type": "markdown",
      "source": [
        "4) Intérpretation : ces résultats montrent que le modèle a une précision raisonnable pour la classe 0, mais une précision faible pour la classe 1. Cela signifie que le modèle est bon pour prédire les clients qui ne vont pas churner, mais pas très performant pour prédire ceux qui vont churner. "
      ],
      "metadata": {
        "id": "q8-Q7oosF2uo"
      }
    }
  ]
}